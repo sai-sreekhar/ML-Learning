{
 "cells": [
  {
   "cell_type": "markdown",
   "metadata": {},
   "source": [
    "___\n",
    "\n",
    "<a href='http://www.pieriandata.com'> <img src='../Pierian_Data_Logo.png' /></a>\n",
    "___"
   ]
  },
  {
   "cell_type": "markdown",
   "metadata": {},
   "source": [
    "# Stop Words\n",
    "Words like \"a\" and \"the\" appear so frequently that they don't require tagging as thoroughly as nouns, verbs and modifiers. We call these *stop words*, and they can be filtered from the text to be processed. spaCy holds a built-in list of some 305 English stop words."
   ]
  },
  {
   "cell_type": "code",
   "execution_count": 1,
   "metadata": {},
   "outputs": [
    {
     "name": "stderr",
     "output_type": "stream",
     "text": [
      "2023-01-02 11:48:56.635050: I tensorflow/core/platform/cpu_feature_guard.cc:193] This TensorFlow binary is optimized with oneAPI Deep Neural Network Library (oneDNN) to use the following CPU instructions in performance-critical operations:  SSE4.1 SSE4.2 AVX AVX2 FMA\n",
      "To enable them in other operations, rebuild TensorFlow with the appropriate compiler flags.\n"
     ]
    }
   ],
   "source": [
    "# Perform standard imports:\n",
    "import spacy\n",
    "\n",
    "nlp = spacy.load(\"en_core_web_sm\")"
   ]
  },
  {
   "cell_type": "code",
   "execution_count": 2,
   "metadata": {},
   "outputs": [
    {
     "name": "stdout",
     "output_type": "stream",
     "text": [
      "{'some', 'does', 'toward', 'anyone', 'nine', 'our', 'various', 'almost', 'front', 'also', 'namely', '‘m', 'no', 'throughout', 'although', 'thereupon', 'who', 'beyond', 'be', 'not', 'such', 'ten', 'nevertheless', 'how', '‘ve', 'now', 'none', 'your', 'first', 'when', \"'d\", 'else', 'itself', 'never', 'you', 'per', 'since', 'will', 'because', 'she', 'before', 'across', 'hereafter', 'n‘t', 'other', 'someone', 'hers', 'until', 'most', 'besides', 'latter', 'been', \"'re\", 'whatever', 'has', 'already', 'latterly', 'anyhow', 'others', 'thence', 'am', 'say', 'whereby', 'thereby', 'though', 'may', 'unless', 'too', 'last', 'himself', 're', 'up', 'nothing', 'well', '’d', 'indeed', 'hereby', 'should', 'after', 'bottom', 'as', 'hence', 'again', 'formerly', 'then', 'n’t', 'whereas', 'six', 'can', \"n't\", 'noone', '’re', 'side', 'into', 'same', 'regarding', 'many', 'against', 'whither', 'alone', \"'s\", 'might', 'moreover', 'even', 'just', 'was', 'out', 'own', 'i', 'had', 'seeming', 'afterwards', 'very', 'here', 'something', 'twenty', 'seems', 'within', 'with', 'in', 'therein', 'onto', 'seem', 'her', 'on', 'amount', 'which', 'and', 'about', 'either', 'yourself', 'whence', 'third', 'whereafter', 'made', 'four', 'perhaps', 'to', 'everything', 'my', 'or', 'being', 'would', 'did', 'twelve', 'if', 'elsewhere', 'doing', 'its', 'ever', 'quite', \"'ll\", 'few', 'became', 'whether', 'somewhere', 'often', 'otherwise', 'three', 'below', 'thereafter', 'behind', 'eight', '’ve', 'them', 'among', 'of', 'whereupon', 'wherever', 'anyway', 'beside', 'somehow', 'cannot', 'done', 'move', '’ll', 'whom', 'it', 'go', 'neither', 'due', 'me', 'further', 'five', 'herself', 'those', 'top', 'therefore', 'herein', 'upon', 'full', 'us', 'however', 'mine', 'fifty', 'keep', 'ours', 'why', 'wherein', 'must', 'get', 'empty', 'whoever', 'at', 'hereupon', 'during', 'much', 'anywhere', 'show', '‘re', 'a', 'another', 'less', 'off', 'always', 'sometimes', 'him', 'all', 'than', 'whole', 'take', 'do', 'any', 'anything', 'were', 'around', 'his', 'ourselves', 'nobody', 'seemed', 'become', 'both', 'except', 'towards', 'forty', 'please', 'really', 'so', 'beforehand', 'ca', 'down', 'along', 'are', 'we', 'between', 'nowhere', 'their', 'that', 'nor', 'this', 'give', 'mostly', 'everywhere', 'part', 'is', 'above', 'could', 'whose', 'thru', 'what', 'from', 'two', 'yours', 'rather', 'name', 'serious', 'least', 'the', 'every', 'enough', 'whenever', 'over', 'an', 'call', 'more', 'several', 'make', 'where', 'hundred', 'amongst', 'fifteen', 'have', 'becoming', 'together', 'he', 'only', 'once', 'still', 'they', '‘ll', 'yourselves', 'but', \"'ve\", '’s', 'sometime', 'yet', 'next', 'through', 'these', 'back', 'used', 'by', 'put', 'eleven', 'via', 'becomes', 'under', \"'m\", '‘d', 'myself', 'using', 'themselves', 'see', 'for', 'former', 'while', '’m', 'sixty', 'each', 'one', 'there', 'everyone', 'meanwhile', 'thus', '‘s', 'without'}\n"
     ]
    }
   ],
   "source": [
    "# Print the set of spaCy's default stop words (remember that sets are unordered):\n",
    "print(nlp.Defaults.stop_words)"
   ]
  },
  {
   "cell_type": "code",
   "execution_count": 3,
   "metadata": {},
   "outputs": [
    {
     "data": {
      "text/plain": [
       "326"
      ]
     },
     "execution_count": 3,
     "metadata": {},
     "output_type": "execute_result"
    }
   ],
   "source": [
    "len(nlp.Defaults.stop_words)"
   ]
  },
  {
   "cell_type": "markdown",
   "metadata": {},
   "source": [
    "## To see if a word is a stop word"
   ]
  },
  {
   "cell_type": "code",
   "execution_count": 4,
   "metadata": {},
   "outputs": [
    {
     "data": {
      "text/plain": [
       "True"
      ]
     },
     "execution_count": 4,
     "metadata": {},
     "output_type": "execute_result"
    }
   ],
   "source": [
    "nlp.vocab[\"myself\"].is_stop"
   ]
  },
  {
   "cell_type": "code",
   "execution_count": 5,
   "metadata": {},
   "outputs": [
    {
     "data": {
      "text/plain": [
       "False"
      ]
     },
     "execution_count": 5,
     "metadata": {},
     "output_type": "execute_result"
    }
   ],
   "source": [
    "nlp.vocab[\"mystery\"].is_stop"
   ]
  },
  {
   "cell_type": "markdown",
   "metadata": {},
   "source": [
    "## To add a stop word\n",
    "There may be times when you wish to add a stop word to the default set. Perhaps you decide that `'btw'` (common shorthand for \"by the way\") should be considered a stop word."
   ]
  },
  {
   "cell_type": "code",
   "execution_count": 6,
   "metadata": {},
   "outputs": [],
   "source": [
    "# Add the word to the set of stop words. Use lowercase!\n",
    "nlp.Defaults.stop_words.add(\"btw\")\n",
    "\n",
    "# Set the stop_word tag on the lexeme\n",
    "nlp.vocab[\"btw\"].is_stop = True"
   ]
  },
  {
   "cell_type": "code",
   "execution_count": 7,
   "metadata": {},
   "outputs": [],
   "source": [
    "len(nlp.Defaults.stop_words)\n",
    "nlp.vocab[\"btw\"].is_stop = True"
   ]
  },
  {
   "cell_type": "code",
   "execution_count": 8,
   "metadata": {},
   "outputs": [
    {
     "data": {
      "text/plain": [
       "True"
      ]
     },
     "execution_count": 8,
     "metadata": {},
     "output_type": "execute_result"
    }
   ],
   "source": [
    "nlp.vocab[\"btw\"].is_stop"
   ]
  },
  {
   "cell_type": "markdown",
   "metadata": {},
   "source": [
    "<font color=green>When adding stop words, always use lowercase. Lexemes are converted to lowercase before being added to **vocab**.</font>"
   ]
  },
  {
   "cell_type": "markdown",
   "metadata": {},
   "source": [
    "## To remove a stop word\n",
    "Alternatively, you may decide that `'beyond'` should not be considered a stop word."
   ]
  },
  {
   "cell_type": "code",
   "execution_count": 9,
   "metadata": {},
   "outputs": [],
   "source": [
    "# Remove the word from the set of stop words\n",
    "nlp.Defaults.stop_words.remove(\"beyond\")\n",
    "\n",
    "# Remove the stop_word tag from the lexeme\n",
    "nlp.vocab[\"beyond\"].is_stop = False"
   ]
  },
  {
   "cell_type": "code",
   "execution_count": 10,
   "metadata": {},
   "outputs": [
    {
     "data": {
      "text/plain": [
       "326"
      ]
     },
     "execution_count": 10,
     "metadata": {},
     "output_type": "execute_result"
    }
   ],
   "source": [
    "len(nlp.Defaults.stop_words)"
   ]
  },
  {
   "cell_type": "code",
   "execution_count": 11,
   "metadata": {},
   "outputs": [
    {
     "data": {
      "text/plain": [
       "False"
      ]
     },
     "execution_count": 11,
     "metadata": {},
     "output_type": "execute_result"
    }
   ],
   "source": [
    "nlp.vocab[\"beyond\"].is_stop"
   ]
  },
  {
   "cell_type": "markdown",
   "metadata": {},
   "source": [
    "Great! Now you should be able to access spaCy's default set of stop words, and add or remove stop words as needed.\n",
    "## Next up: Vocabulary and Matching"
   ]
  }
 ],
 "metadata": {
  "kernelspec": {
   "display_name": "my_env",
   "language": "python",
   "name": "python3"
  },
  "language_info": {
   "codemirror_mode": {
    "name": "ipython",
    "version": 3
   },
   "file_extension": ".py",
   "mimetype": "text/x-python",
   "name": "python",
   "nbconvert_exporter": "python",
   "pygments_lexer": "ipython3",
   "version": "3.10.8"
  },
  "vscode": {
   "interpreter": {
    "hash": "1292f81f710ec7fa2709de729ad1365e375145115af66027528bf929861e08ae"
   }
  }
 },
 "nbformat": 4,
 "nbformat_minor": 2
}
