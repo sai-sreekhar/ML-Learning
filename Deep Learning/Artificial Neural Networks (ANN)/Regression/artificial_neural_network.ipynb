{
  "cells": [
    {
      "cell_type": "markdown",
      "metadata": {
        "colab_type": "text",
        "id": "3cbb7fRy-eyr"
      },
      "source": [
        "# Artificial Neural Network"
      ]
    },
    {
      "cell_type": "markdown",
      "metadata": {
        "colab_type": "text",
        "id": "8sNDnxE2-pwE"
      },
      "source": [
        "### Importing the libraries"
      ]
    },
    {
      "cell_type": "code",
      "execution_count": null,
      "metadata": {
        "colab": {},
        "colab_type": "code",
        "id": "lxChR1Rk-umf"
      },
      "outputs": [],
      "source": [
        "import numpy as np\n",
        "import pandas as pd\n",
        "import tensorflow as tf"
      ]
    },
    {
      "cell_type": "code",
      "execution_count": 2,
      "metadata": {
        "colab": {
          "base_uri": "https://localhost:8080/",
          "height": 34
        },
        "colab_type": "code",
        "id": "uBTqR3nacj0e",
        "outputId": "4c0bd183-e424-429a-9fba-ceb841c06888"
      },
      "outputs": [
        {
          "data": {
            "text/plain": [
              "'2.2.0-rc2'"
            ]
          },
          "execution_count": 2,
          "metadata": {
            "tags": []
          },
          "output_type": "execute_result"
        }
      ],
      "source": [
        "tf.__version__"
      ]
    },
    {
      "cell_type": "markdown",
      "metadata": {
        "colab_type": "text",
        "id": "AG3FQEch-yuA"
      },
      "source": [
        "## Part 1 - Data Preprocessing"
      ]
    },
    {
      "cell_type": "markdown",
      "metadata": {
        "colab_type": "text",
        "id": "-4zq8Mza_D9O"
      },
      "source": [
        "### Importing the dataset"
      ]
    },
    {
      "cell_type": "code",
      "execution_count": null,
      "metadata": {
        "colab": {},
        "colab_type": "code",
        "id": "B9CV13Co_HHM"
      },
      "outputs": [],
      "source": [
        "dataset = pd.read_excel('Folds5x2_pp.xlsx')\n",
        "X = dataset.iloc[:, :-1].values\n",
        "y = dataset.iloc[:, -1].values"
      ]
    },
    {
      "cell_type": "markdown",
      "metadata": {
        "colab_type": "text",
        "id": "VC6omXel_Up0"
      },
      "source": [
        "### Splitting the dataset into the Training set and Test set"
      ]
    },
    {
      "cell_type": "code",
      "execution_count": null,
      "metadata": {
        "colab": {},
        "colab_type": "code",
        "id": "L5edeb2r_agx"
      },
      "outputs": [],
      "source": [
        "from sklearn.model_selection import train_test_split\n",
        "X_train, X_test, y_train, y_test = train_test_split(X, y, test_size = 0.2, random_state = 0)"
      ]
    },
    {
      "cell_type": "markdown",
      "metadata": {
        "colab_type": "text",
        "id": "_mSLlAT9_eyI"
      },
      "source": [
        "## Part 2 - Building the ANN"
      ]
    },
    {
      "cell_type": "markdown",
      "metadata": {
        "colab_type": "text",
        "id": "CsBULd_f_wLY"
      },
      "source": [
        "### Initializing the ANN"
      ]
    },
    {
      "cell_type": "code",
      "execution_count": null,
      "metadata": {
        "colab": {},
        "colab_type": "code",
        "id": "J6Hd97Ls__Nz"
      },
      "outputs": [],
      "source": [
        "ann = tf.keras.models.Sequential()"
      ]
    },
    {
      "cell_type": "markdown",
      "metadata": {
        "colab_type": "text",
        "id": "iitAFJS_ABUn"
      },
      "source": [
        "### Adding the input layer and the first hidden layer"
      ]
    },
    {
      "cell_type": "code",
      "execution_count": null,
      "metadata": {
        "colab": {},
        "colab_type": "code",
        "id": "ksO_Vv40AHix"
      },
      "outputs": [],
      "source": [
        "ann.add(tf.keras.layers.Dense(units=6, activation='relu'))"
      ]
    },
    {
      "cell_type": "markdown",
      "metadata": {
        "colab_type": "text",
        "id": "-lb4kK_wAKbs"
      },
      "source": [
        "### Adding the second hidden layer"
      ]
    },
    {
      "cell_type": "code",
      "execution_count": null,
      "metadata": {
        "colab": {},
        "colab_type": "code",
        "id": "c2357OqEAQOQ"
      },
      "outputs": [],
      "source": [
        "ann.add(tf.keras.layers.Dense(units=6, activation='relu'))"
      ]
    },
    {
      "cell_type": "markdown",
      "metadata": {
        "colab_type": "text",
        "id": "jwMOmKb3AdBY"
      },
      "source": [
        "### Adding the output layer"
      ]
    },
    {
      "cell_type": "code",
      "execution_count": null,
      "metadata": {
        "colab": {},
        "colab_type": "code",
        "id": "YFATpzsUAkLL"
      },
      "outputs": [],
      "source": [
        "ann.add(tf.keras.layers.Dense(units=1))"
      ]
    },
    {
      "cell_type": "markdown",
      "metadata": {
        "colab_type": "text",
        "id": "fq7e4fF6A1yy"
      },
      "source": [
        "## Part 3 - Training the ANN"
      ]
    },
    {
      "cell_type": "markdown",
      "metadata": {
        "colab_type": "text",
        "id": "qDeylAs2An25"
      },
      "source": [
        "### Compiling the ANN"
      ]
    },
    {
      "cell_type": "code",
      "execution_count": null,
      "metadata": {
        "colab": {},
        "colab_type": "code",
        "id": "pesgbWlCAtB4"
      },
      "outputs": [],
      "source": [
        "ann.compile(optimizer = 'adam', loss = 'mean_squared_error')"
      ]
    },
    {
      "cell_type": "markdown",
      "metadata": {
        "colab_type": "text",
        "id": "YjVuiybYOo7r"
      },
      "source": [
        "### Training the ANN model on the Training set"
      ]
    },
    {
      "cell_type": "code",
      "execution_count": 10,
      "metadata": {
        "colab": {
          "base_uri": "https://localhost:8080/",
          "height": 1000
        },
        "colab_type": "code",
        "id": "c_vV-tiiA5zn",
        "outputId": "4a2b6ee6-ed75-4698-9069-b250e613803f"
      },
      "outputs": [
        {
          "name": "stdout",
          "output_type": "stream",
          "text": [
            "Epoch 1/100\n",
            "240/240 [==============================] - 0s 2ms/step - loss: 82110.9922\n",
            "Epoch 2/100\n",
            "240/240 [==============================] - 0s 1ms/step - loss: 656.9040\n",
            "Epoch 3/100\n",
            "240/240 [==============================] - 0s 1ms/step - loss: 429.4050\n",
            "Epoch 4/100\n",
            "240/240 [==============================] - 0s 1ms/step - loss: 417.9655\n",
            "Epoch 5/100\n",
            "240/240 [==============================] - 0s 1ms/step - loss: 405.0805\n",
            "Epoch 6/100\n",
            "240/240 [==============================] - 0s 1ms/step - loss: 388.9652\n",
            "Epoch 7/100\n",
            "240/240 [==============================] - 0s 2ms/step - loss: 371.9583\n",
            "Epoch 8/100\n",
            "240/240 [==============================] - 0s 1ms/step - loss: 353.7564\n",
            "Epoch 9/100\n",
            "240/240 [==============================] - 0s 1ms/step - loss: 332.1931\n",
            "Epoch 10/100\n",
            "240/240 [==============================] - 0s 1ms/step - loss: 310.8850\n",
            "Epoch 11/100\n",
            "240/240 [==============================] - 0s 1ms/step - loss: 288.6723\n",
            "Epoch 12/100\n",
            "240/240 [==============================] - 0s 1ms/step - loss: 265.4893\n",
            "Epoch 13/100\n",
            "240/240 [==============================] - 0s 1ms/step - loss: 241.9901\n",
            "Epoch 14/100\n",
            "240/240 [==============================] - 0s 1ms/step - loss: 218.7932\n",
            "Epoch 15/100\n",
            "240/240 [==============================] - 0s 1ms/step - loss: 195.7967\n",
            "Epoch 16/100\n",
            "240/240 [==============================] - 0s 1ms/step - loss: 173.4715\n",
            "Epoch 17/100\n",
            "240/240 [==============================] - 0s 1ms/step - loss: 152.0865\n",
            "Epoch 18/100\n",
            "240/240 [==============================] - 0s 1ms/step - loss: 133.8352\n",
            "Epoch 19/100\n",
            "240/240 [==============================] - 0s 2ms/step - loss: 114.7121\n",
            "Epoch 20/100\n",
            "240/240 [==============================] - 0s 1ms/step - loss: 99.1055\n",
            "Epoch 21/100\n",
            "240/240 [==============================] - 0s 1ms/step - loss: 85.0958\n",
            "Epoch 22/100\n",
            "240/240 [==============================] - 0s 1ms/step - loss: 72.9813\n",
            "Epoch 23/100\n",
            "240/240 [==============================] - 0s 1ms/step - loss: 63.0874\n",
            "Epoch 24/100\n",
            "240/240 [==============================] - 0s 1ms/step - loss: 55.5997\n",
            "Epoch 25/100\n",
            "240/240 [==============================] - 0s 1ms/step - loss: 48.6599\n",
            "Epoch 26/100\n",
            "240/240 [==============================] - 0s 1ms/step - loss: 43.8464\n",
            "Epoch 27/100\n",
            "240/240 [==============================] - 0s 1ms/step - loss: 39.5008\n",
            "Epoch 28/100\n",
            "240/240 [==============================] - 0s 1ms/step - loss: 36.4593\n",
            "Epoch 29/100\n",
            "240/240 [==============================] - 0s 1ms/step - loss: 34.0817\n",
            "Epoch 30/100\n",
            "240/240 [==============================] - 0s 1ms/step - loss: 31.9598\n",
            "Epoch 31/100\n",
            "240/240 [==============================] - 0s 1ms/step - loss: 30.6506\n",
            "Epoch 32/100\n",
            "240/240 [==============================] - 0s 1ms/step - loss: 29.2514\n",
            "Epoch 33/100\n",
            "240/240 [==============================] - 0s 1ms/step - loss: 28.6193\n",
            "Epoch 34/100\n",
            "240/240 [==============================] - 0s 1ms/step - loss: 28.2938\n",
            "Epoch 35/100\n",
            "240/240 [==============================] - 0s 1ms/step - loss: 27.8989\n",
            "Epoch 36/100\n",
            "240/240 [==============================] - 0s 1ms/step - loss: 27.6518\n",
            "Epoch 37/100\n",
            "240/240 [==============================] - 0s 1ms/step - loss: 27.6548\n",
            "Epoch 38/100\n",
            "240/240 [==============================] - 0s 1ms/step - loss: 27.6663\n",
            "Epoch 39/100\n",
            "240/240 [==============================] - 0s 1ms/step - loss: 27.2372\n",
            "Epoch 40/100\n",
            "240/240 [==============================] - 0s 1ms/step - loss: 26.9648\n",
            "Epoch 41/100\n",
            "240/240 [==============================] - 0s 1ms/step - loss: 27.3003\n",
            "Epoch 42/100\n",
            "240/240 [==============================] - 0s 1ms/step - loss: 26.9892\n",
            "Epoch 43/100\n",
            "240/240 [==============================] - 0s 1ms/step - loss: 26.9079\n",
            "Epoch 44/100\n",
            "240/240 [==============================] - 0s 1ms/step - loss: 27.0087\n",
            "Epoch 45/100\n",
            "240/240 [==============================] - 0s 1ms/step - loss: 26.8454\n",
            "Epoch 46/100\n",
            "240/240 [==============================] - 0s 1ms/step - loss: 27.8962\n",
            "Epoch 47/100\n",
            "240/240 [==============================] - 0s 1ms/step - loss: 27.6415\n",
            "Epoch 48/100\n",
            "240/240 [==============================] - 0s 1ms/step - loss: 26.6297\n",
            "Epoch 49/100\n",
            "240/240 [==============================] - 0s 1ms/step - loss: 26.7283\n",
            "Epoch 50/100\n",
            "240/240 [==============================] - 0s 1ms/step - loss: 26.7314\n",
            "Epoch 51/100\n",
            "240/240 [==============================] - 0s 1ms/step - loss: 26.6264\n",
            "Epoch 52/100\n",
            "240/240 [==============================] - 0s 1ms/step - loss: 27.1356\n",
            "Epoch 53/100\n",
            "240/240 [==============================] - 0s 1ms/step - loss: 26.7729\n",
            "Epoch 54/100\n",
            "240/240 [==============================] - 0s 1ms/step - loss: 27.1764\n",
            "Epoch 55/100\n",
            "240/240 [==============================] - 0s 1ms/step - loss: 26.7840\n",
            "Epoch 56/100\n",
            "240/240 [==============================] - 0s 1ms/step - loss: 27.0540\n",
            "Epoch 57/100\n",
            "240/240 [==============================] - 0s 1ms/step - loss: 26.4141\n",
            "Epoch 58/100\n",
            "240/240 [==============================] - 0s 1ms/step - loss: 26.5495\n",
            "Epoch 59/100\n",
            "240/240 [==============================] - 0s 1ms/step - loss: 26.6667\n",
            "Epoch 60/100\n",
            "240/240 [==============================] - 0s 1ms/step - loss: 26.8377\n",
            "Epoch 61/100\n",
            "240/240 [==============================] - 0s 1ms/step - loss: 26.5527\n",
            "Epoch 62/100\n",
            "240/240 [==============================] - 0s 1ms/step - loss: 26.7276\n",
            "Epoch 63/100\n",
            "240/240 [==============================] - 0s 1ms/step - loss: 26.8652\n",
            "Epoch 64/100\n",
            "240/240 [==============================] - 0s 1ms/step - loss: 26.8453\n",
            "Epoch 65/100\n",
            "240/240 [==============================] - 0s 1ms/step - loss: 27.3161\n",
            "Epoch 66/100\n",
            "240/240 [==============================] - 0s 1ms/step - loss: 26.8471\n",
            "Epoch 67/100\n",
            "240/240 [==============================] - 0s 1ms/step - loss: 27.0942\n",
            "Epoch 68/100\n",
            "240/240 [==============================] - 0s 1ms/step - loss: 26.8812\n",
            "Epoch 69/100\n",
            "240/240 [==============================] - 0s 1ms/step - loss: 26.4800\n",
            "Epoch 70/100\n",
            "240/240 [==============================] - 0s 1ms/step - loss: 26.6989\n",
            "Epoch 71/100\n",
            "240/240 [==============================] - 0s 1ms/step - loss: 26.4388\n",
            "Epoch 72/100\n",
            "240/240 [==============================] - 0s 1ms/step - loss: 26.4439\n",
            "Epoch 73/100\n",
            "240/240 [==============================] - 0s 1ms/step - loss: 26.2972\n",
            "Epoch 74/100\n",
            "240/240 [==============================] - 0s 1ms/step - loss: 26.4374\n",
            "Epoch 75/100\n",
            "240/240 [==============================] - 0s 1ms/step - loss: 26.8876\n",
            "Epoch 76/100\n",
            "240/240 [==============================] - 0s 1ms/step - loss: 26.4687\n",
            "Epoch 77/100\n",
            "240/240 [==============================] - 0s 1ms/step - loss: 26.2771\n",
            "Epoch 78/100\n",
            "240/240 [==============================] - 0s 1ms/step - loss: 26.5331\n",
            "Epoch 79/100\n",
            "240/240 [==============================] - 0s 1ms/step - loss: 26.5885\n",
            "Epoch 80/100\n",
            "240/240 [==============================] - 0s 1ms/step - loss: 26.3217\n",
            "Epoch 81/100\n",
            "240/240 [==============================] - 0s 1ms/step - loss: 26.5743\n",
            "Epoch 82/100\n",
            "240/240 [==============================] - 0s 1ms/step - loss: 26.7727\n",
            "Epoch 83/100\n",
            "240/240 [==============================] - 0s 1ms/step - loss: 27.0158\n",
            "Epoch 84/100\n",
            "240/240 [==============================] - 0s 1ms/step - loss: 26.3880\n",
            "Epoch 85/100\n",
            "240/240 [==============================] - 0s 1ms/step - loss: 26.5489\n",
            "Epoch 86/100\n",
            "240/240 [==============================] - 0s 1ms/step - loss: 27.2057\n",
            "Epoch 87/100\n",
            "240/240 [==============================] - 0s 1ms/step - loss: 26.4548\n",
            "Epoch 88/100\n",
            "240/240 [==============================] - 0s 1ms/step - loss: 26.3096\n",
            "Epoch 89/100\n",
            "240/240 [==============================] - 0s 1ms/step - loss: 27.1187\n",
            "Epoch 90/100\n",
            "240/240 [==============================] - 0s 1ms/step - loss: 26.7397\n",
            "Epoch 91/100\n",
            "240/240 [==============================] - 0s 1ms/step - loss: 26.2406\n",
            "Epoch 92/100\n",
            "240/240 [==============================] - 0s 1ms/step - loss: 26.6685\n",
            "Epoch 93/100\n",
            "240/240 [==============================] - 0s 1ms/step - loss: 26.4539\n",
            "Epoch 94/100\n",
            "240/240 [==============================] - 0s 1ms/step - loss: 26.3384\n",
            "Epoch 95/100\n",
            "240/240 [==============================] - 0s 1ms/step - loss: 26.8025\n",
            "Epoch 96/100\n",
            "240/240 [==============================] - 0s 1ms/step - loss: 26.7008\n",
            "Epoch 97/100\n",
            "240/240 [==============================] - 0s 1ms/step - loss: 26.8566\n",
            "Epoch 98/100\n",
            "240/240 [==============================] - 0s 1ms/step - loss: 26.8853\n",
            "Epoch 99/100\n",
            "240/240 [==============================] - 0s 1ms/step - loss: 26.8439\n",
            "Epoch 100/100\n",
            "240/240 [==============================] - 0s 1ms/step - loss: 26.7392\n"
          ]
        },
        {
          "data": {
            "text/plain": [
              "<tensorflow.python.keras.callbacks.History at 0x7f895a5850b8>"
            ]
          },
          "execution_count": 10,
          "metadata": {
            "tags": []
          },
          "output_type": "execute_result"
        }
      ],
      "source": [
        "ann.fit(X_train, y_train, batch_size = 32, epochs = 100)"
      ]
    },
    {
      "cell_type": "markdown",
      "metadata": {
        "colab_type": "text",
        "id": "0H0zKKNEBLD5"
      },
      "source": [
        "### Predicting the results of the Test set"
      ]
    },
    {
      "cell_type": "code",
      "execution_count": 11,
      "metadata": {
        "colab": {
          "base_uri": "https://localhost:8080/",
          "height": 134
        },
        "colab_type": "code",
        "id": "IA0yApEmBG1X",
        "outputId": "cb981e1f-9204-4a2a-fece-9d66a6919189"
      },
      "outputs": [
        {
          "name": "stdout",
          "output_type": "stream",
          "text": [
            "[[430.79 431.23]\n",
            " [461.8  460.01]\n",
            " [465.29 461.14]\n",
            " ...\n",
            " [472.51 473.26]\n",
            " [439.39 438.  ]\n",
            " [458.55 463.28]]\n"
          ]
        }
      ],
      "source": [
        "y_pred = ann.predict(X_test)\n",
        "np.set_printoptions(precision=2)\n",
        "print(np.concatenate((y_pred.reshape(len(y_pred),1), y_test.reshape(len(y_test),1)),1))"
      ]
    }
  ],
  "metadata": {
    "colab": {
      "collapsed_sections": [],
      "name": "Artificial Neural Network",
      "provenance": [],
      "toc_visible": true
    },
    "kernelspec": {
      "display_name": "Python 3",
      "language": "python",
      "name": "python3"
    },
    "language_info": {
      "name": "python",
      "version": "3.10.6 (main, Nov 14 2022, 16:10:14) [GCC 11.3.0]"
    },
    "vscode": {
      "interpreter": {
        "hash": "916dbcbb3f70747c44a77c7bcd40155683ae19c65e1c03b4aa3499c5328201f1"
      }
    }
  },
  "nbformat": 4,
  "nbformat_minor": 0
}
